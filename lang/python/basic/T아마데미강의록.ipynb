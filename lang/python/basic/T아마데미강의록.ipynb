{
 "cells": [
  {
   "cell_type": "code",
   "execution_count": 16,
   "metadata": {},
   "outputs": [
    {
     "name": "stdout",
     "output_type": "stream",
     "text": [
      "1 2\n",
      "2 1\n",
      "2 1\n",
      "a 1\n",
      "1 a\n",
      "b 2\n",
      "2 b\n"
     ]
    },
    {
     "data": {
      "text/plain": [
       "139764862290952"
      ]
     },
     "execution_count": 16,
     "metadata": {},
     "output_type": "execute_result"
    }
   ],
   "source": [
    "# 1강. 자료형과 연산자\n",
    "type(0x10)\n",
    "type(10)\n",
    "type(\"안녕\");\n",
    "type('3')\n",
    "type(\"3\")\n",
    "#이런것은 없다.\n",
    "#type(null)\n",
    "#type(NULL)\n",
    "\n",
    "sample = \"12345\"\n",
    "sample[3]\n",
    "sample[-2:]\n",
    "type(sample)\n",
    "sample.encode('utf-8')\n",
    "sample2 = sample.encode('utf-8')\n",
    "type(sample2)\n",
    "#\n",
    "colors = [1, 2, 3]\n",
    "colors.append(4)\n",
    "type(colors)\n",
    "colors.append(\"hi\")\n",
    "type(colors)\n",
    "type(colors[2])\n",
    "type(colors[4])\n",
    "colors\n",
    "colors.index(1)\n",
    "colors.append(1)\n",
    "colors\n",
    "colors.count(1)\n",
    "colors.index(1, 2)\n",
    "colors.index(1)\n",
    "sample3  = {1,2,3,\"44\"}\n",
    "type(sample3)\n",
    "(a, b) = 1, 2\n",
    "print(a, b)\n",
    "print(b, a)\n",
    "a, b = b,a\n",
    "print(a,b)\n",
    "d = {'a':1}\n",
    "type(d)\n",
    "d['b'] = 2\n",
    "d\n",
    "for k, v in d.items():\n",
    "\tprint(k,v)\n",
    "\tk, v = v,k\n",
    "\tprint(k,v)\n",
    "d\n",
    "{'a': 1, 'b': 2}\n",
    "del d['b']\n",
    "d\n",
    "d.clear()\n",
    "d\n",
    "sample\n",
    "'12345'\n",
    "type(sample)\n",
    "type(sample2)\n",
    "type(sample3)\n",
    "sample3\n",
    "colors\n",
    "colors\n",
    "type(colors)\n",
    "colors[:]\n",
    "colors\n",
    "cp_colors_1 = colors[:]\n",
    "cp_colors_2 = colors\n",
    "colors[0] = 2\n",
    "colors\n",
    "cp_colors_2\n",
    "cp_colors_1\n",
    "id(colors)\n",
    "id(cp_colors_2)\n",
    "id(cp_colors_1)"
   ]
  },
  {
   "cell_type": "code",
   "execution_count": 32,
   "metadata": {},
   "outputs": [
    {
     "name": "stdout",
     "output_type": "stream",
     "text": [
      "func_a is here\n",
      "func_a is here\n",
      " colors 원본 : hi\n",
      "깊은 복사&변경 후 colors 원본: hi\n",
      "앝은 복사&변경 후 colors 원본: shallow\n"
     ]
    },
    {
     "data": {
      "text/plain": [
       "6"
      ]
     },
     "execution_count": 32,
     "metadata": {},
     "output_type": "execute_result"
    }
   ],
   "source": [
    "# 2강. 함수 사용\n",
    "colors = ['hi', 1, 3, 4]\n",
    "def func_a():\n",
    "    print(\"func_a is here\")\n",
    "func_a()\n",
    "func_b = func_a\n",
    "func_b()\n",
    "# 함수 내 '얕은 복사'\n",
    "def change(x) :\n",
    "    x[0] = 'shallow'\n",
    "# 함수 내 '깊은 복사'\n",
    "def change_ins(x):\n",
    "\tx = x[:]\n",
    "\tx[0] = 'deep'\n",
    "\treturn x\n",
    "# 결과물 출력\n",
    "print(\" colors 원본 :\",colors[0]) #원본\n",
    "new_colors = change_ins(colors)\n",
    "print(\"깊은 복사&변경 후 colors 원본:\",colors[0])\n",
    "change(colors)\n",
    "print(\"앝은 복사&변경 후 colors 원본:\",colors[0])\n",
    "\n",
    "# 곱과 제승\n",
    "2**3\n",
    "2*3"
   ]
  },
  {
   "cell_type": "code",
   "execution_count": 87,
   "metadata": {},
   "outputs": [
    {
     "name": "stdout",
     "output_type": "stream",
     "text": [
      ">> 디폴트 파라미터 위치 다르게\n",
      " > 1. 맨끝 > 통과\n",
      " > 2. 맨끝부터 채우기 > 통과\n",
      "high\n",
      "<class 'str'>\n",
      "넘어옴\n"
     ]
    },
    {
     "ename": "TypeError",
     "evalue": "'<=' not supported between instances of 'str' and 'int'",
     "output_type": "error",
     "traceback": [
      "\u001b[0;31m---------------------------------------------------------------------------\u001b[0m",
      "\u001b[0;31mTypeError\u001b[0m                                 Traceback (most recent call last)",
      "\u001b[0;32m<ipython-input-87-823bc3a66d5e>\u001b[0m in \u001b[0;36m<module>\u001b[0;34m\u001b[0m\n\u001b[1;32m     48\u001b[0m         \u001b[0;32melse\u001b[0m \u001b[0;34m:\u001b[0m\u001b[0;34m\u001b[0m\u001b[0;34m\u001b[0m\u001b[0m\n\u001b[1;32m     49\u001b[0m             \u001b[0;32mreturn\u001b[0m \u001b[0mprint\u001b[0m\u001b[0;34m(\u001b[0m\u001b[0;34m\"high\"\u001b[0m\u001b[0;34m)\u001b[0m\u001b[0;34m\u001b[0m\u001b[0;34m\u001b[0m\u001b[0m\n\u001b[0;32m---> 50\u001b[0;31m \u001b[0mjudge_a2\u001b[0m\u001b[0;34m(\u001b[0m\u001b[0;34m\"hello\"\u001b[0m\u001b[0;34m)\u001b[0m\u001b[0;34m\u001b[0m\u001b[0;34m\u001b[0m\u001b[0m\n\u001b[0m\u001b[1;32m     51\u001b[0m \u001b[0;31m# 타입 변환\u001b[0m\u001b[0;34m\u001b[0m\u001b[0;34m\u001b[0m\u001b[0;34m\u001b[0m\u001b[0m\n\u001b[1;32m     52\u001b[0m \u001b[0mtype\u001b[0m\u001b[0;34m(\u001b[0m\u001b[0mstr\u001b[0m\u001b[0;34m(\u001b[0m\u001b[0;36m1\u001b[0m\u001b[0;34m)\u001b[0m\u001b[0;34m)\u001b[0m\u001b[0;34m\u001b[0m\u001b[0;34m\u001b[0m\u001b[0m\n",
      "\u001b[0;32m<ipython-input-87-823bc3a66d5e>\u001b[0m in \u001b[0;36mjudge_a2\u001b[0;34m(para)\u001b[0m\n\u001b[1;32m     42\u001b[0m     \u001b[0;32melse\u001b[0m \u001b[0;34m:\u001b[0m\u001b[0;34m\u001b[0m\u001b[0;34m\u001b[0m\u001b[0m\n\u001b[1;32m     43\u001b[0m         \u001b[0mprint\u001b[0m\u001b[0;34m(\u001b[0m\u001b[0;34m\"넘어옴\"\u001b[0m\u001b[0;34m)\u001b[0m\u001b[0;34m\u001b[0m\u001b[0;34m\u001b[0m\u001b[0m\n\u001b[0;32m---> 44\u001b[0;31m         \u001b[0;32mif\u001b[0m \u001b[0mpara\u001b[0m \u001b[0;34m<=\u001b[0m \u001b[0;36m10\u001b[0m\u001b[0;34m:\u001b[0m\u001b[0;34m\u001b[0m\u001b[0;34m\u001b[0m\u001b[0m\n\u001b[0m\u001b[1;32m     45\u001b[0m             \u001b[0;32mreturn\u001b[0m \u001b[0mprint\u001b[0m\u001b[0;34m(\u001b[0m\u001b[0;34m\"low\"\u001b[0m\u001b[0;34m)\u001b[0m\u001b[0;34m\u001b[0m\u001b[0;34m\u001b[0m\u001b[0m\n\u001b[1;32m     46\u001b[0m         \u001b[0;32melif\u001b[0m \u001b[0mpara\u001b[0m \u001b[0;34m==\u001b[0m \u001b[0;36m10\u001b[0m\u001b[0;34m:\u001b[0m\u001b[0;34m\u001b[0m\u001b[0;34m\u001b[0m\u001b[0m\n",
      "\u001b[0;31mTypeError\u001b[0m: '<=' not supported between instances of 'str' and 'int'"
     ]
    }
   ],
   "source": [
    "# 디폴트 파라미터\n",
    "def sum_a(a=10, b=20, c=10):\n",
    "\treturn (a+b+c)\n",
    "#\n",
    "# 오류 문법\n",
    "#sum_a(,,,)\n",
    "#sum_a(null, null, null)\n",
    "#\n",
    "#정상 문법\n",
    "sum_a()\n",
    "sum_a(2)\n",
    "# 디폴트 파리미터의 위치\n",
    "# 맨 뒤부터 채워야 가능함\n",
    "print(\">> 디폴트 파라미터 위치 다르게\")\n",
    "def sum_a(a, b, c=10) :\n",
    "\treturn a + b + c\n",
    "print(\" > 1. 맨끝 > 통과\")\n",
    "def sum_a(a, b=30, c=10) :\n",
    "\treturn a + b + c\n",
    "print(\" > 2. 맨끝부터 채우기 > 통과\")\n",
    "#def sum_a(a=10, b, c) :\n",
    "#\treturn a + b + c\n",
    "#print(\" > 3. 맨앞 > 실패\")\n",
    "\n",
    "# 딕셔너리 확인\n",
    "d= {1:10}\n",
    "d.items()\n",
    "d[1]\n",
    "def judge_a1(a):\n",
    "\tif a <= 10:\n",
    "\t\treturn print(\"low\")\n",
    "\telif a == 10:\n",
    "\t\treturn print(\"same\")\n",
    "\telse :\n",
    "\t\treturn print(\"high\")\t\n",
    "judge_a1(20)\n",
    "# IDLE에서는 돌아가는 코드임\n",
    "def judge_a2(para):\n",
    "    #type(a)를 문자열로 변경을 해줘야함\n",
    "    if  type(para) is str :\n",
    "        return print(\"string is in\")\n",
    "    else :\n",
    "        print(\"넘어옴\")\n",
    "        if para <= 10:\n",
    "            return print(\"low\")\n",
    "        elif para == 10:\n",
    "            return print(\"same\")\n",
    "        else :\n",
    "            return print(\"high\")\n",
    "judge_a2(\"hello\")\n",
    "# 타입 변환 \n",
    "type(str(1))\n",
    "type(int(\"1\"))\n",
    "sample = \"1000\"\n",
    "sample2 = 234\n",
    "# 그냥 문자열 + 정수형 은 연산불가\n",
    "# sample + sample2\n",
    "int(sample) + sample2\n",
    "type(sample)\n",
    "\n",
    "# 불리언 상수 확인\n",
    "True\n",
    "False\n",
    "# help 예약어 확인\n",
    "print(\" >> help 예약어 확인\")\n",
    "# 이런식으로 정의되어 있는 함수들을 매개변수로 넣어주면 됨\n",
    "# help(dict)\n",
    "# 사용자 정의함수도 가능\n",
    "print(\">> 사용자 정의 함수에 대한 help() 적용\")\n",
    "help(judge_a)\n",
    "# 사용자 정의 함수에 설명문 추가하기\n",
    "judge_a.__doc__ =\"return the range of a\"\n",
    "print(\">> 사용자 정의 함수에 다큐먼트 추가 후 help() 적용\")\n",
    "help(judge_a)\n",
    "\n",
    "# 이터레이터 사용\n",
    "colors\n",
    "it = iter(colors)"
   ]
  },
  {
   "cell_type": "code",
   "execution_count": 88,
   "metadata": {},
   "outputs": [
    {
     "ename": "TabError",
     "evalue": "inconsistent use of tabs and spaces in indentation (<ipython-input-88-21d991710638>, line 37)",
     "output_type": "error",
     "traceback": [
      "\u001b[0;36m  File \u001b[0;32m\"<ipython-input-88-21d991710638>\"\u001b[0;36m, line \u001b[0;32m37\u001b[0m\n\u001b[0;31m    print(str(type(m)))\u001b[0m\n\u001b[0m                       ^\u001b[0m\n\u001b[0;31mTabError\u001b[0m\u001b[0;31m:\u001b[0m inconsistent use of tabs and spaces in indentation\n"
     ]
    }
   ],
   "source": [
    "# 4강. 제어문 사용\n",
    "# and와 &, or와 |\n",
    "# and 같은 경우, 단축 판단이 되서 첫 조건식이 부정이 되면 그 뒤는 보지 않음.\n",
    "#\n",
    "a = 0\n",
    "print(\">> end 연산자 적용\")\n",
    "#if a & 10/a:  #이 경우는 두번째 조건식으로 넘어감\n",
    "if a and 10/a : #이 경우는 두번째 조건식으로 넘어가지 않음 : 단축판단\n",
    "    print(\"ha\")\n",
    "else :\n",
    "    print(\"ho\")\n",
    "a = 3\n",
    "print(\">> or 연산자 적용\")\n",
    "# or는 성격상 둘다 봐야하기 때문에 a=0이 들어오면 문법 에러가 남.\n",
    "if a or 10/a:\n",
    "\tprint(\"ha\")\n",
    "else:\n",
    "\tprint(\"ho\")\n",
    "\n",
    "#For 문 사용\n",
    "print(\">> 리스트형 자료 출력\")\n",
    "for str in colors:\n",
    "\ta, b = str, type(str)\n",
    "\tprint(a,b)\n",
    "\n",
    "# format 함수 사용\n",
    "print(\">> format 함수 사용\")\n",
    "def func_format(a, b):\n",
    "\tprint(\"{0} is {1}\".format(a,b) )\n",
    "func_format(1,2)\n",
    "                 \n",
    "# (에러) for 문내 타입 체크 부분\n",
    "# IDLE에서 정상코드임\n",
    "def checker_a() :\n",
    "\tfor m in colors:\n",
    "\t\tprint(m, type(m))\n",
    "        print(str(type(m)))\n",
    "\t\tif str(type(m)) == \"<class 'str'>\" :\n",
    "\t\t\tprint(\"string in here\")\n",
    "\t\telse :\n",
    "\t\t\tcontinue\n",
    "\n",
    "checker_a()\n",
    "\n"
   ]
  },
  {
   "cell_type": "code",
   "execution_count": 6,
   "metadata": {},
   "outputs": [
    {
     "data": {
      "text/plain": [
       "[18, 21, 24, 24, 28, 32, 30, 35, 40]"
      ]
     },
     "execution_count": 6,
     "metadata": {},
     "output_type": "execute_result"
    }
   ],
   "source": [
    "#리스트 내장\n",
    "#[ <표현식> for < 아이템 > in < 시퀀스 객체 > (if 조건식) ]\n",
    "#case1\n",
    "t = (\"aaaaaaaaaa\", \"bbbbbbbbb\", \"c\", \"d\")\n",
    "[ i for i in t if len(i) > 5]\n",
    "#case2\n",
    "l1 = [3, 4, 5]\n",
    "l2 = [6, 7, 8]\n",
    "l3 = [x*y for x in l1 for y in l2]"
   ]
  },
  {
   "cell_type": "code",
   "execution_count": 29,
   "metadata": {},
   "outputs": [
    {
     "name": "stdout",
     "output_type": "stream",
     "text": [
      "> no filter\n",
      "item : 1\n",
      "item : 2\n",
      "item : 20\n",
      "item : 25\n",
      "item : 5\n",
      "\n",
      "> filter on\n",
      "item : 25\n",
      "\n",
      "list형 \n",
      " [25]\n",
      "tuple형\n",
      " (25,)\n"
     ]
    }
   ],
   "source": [
    "#filter\n",
    "# 시퀀스 객체를 일정 필터링 함수로 반환을 하게됨\n",
    "# 반환값이 \"시퀀스 객체의 이터레이터\"임\n",
    "# None은 아무런 필터를 하지 않음 = l4 자체를 반환\n",
    "l4 = [1, 2, 20, 25, 5]\n",
    "iter_l4 = filter(None, l4)\n",
    "# no-filter\n",
    "print(\"> no filter\")\n",
    "for i in iter_l4 :\n",
    "    print(\"item : {0}\".format(i))\n",
    "# filter\n",
    "print(\"\\n> filter on\")\n",
    "def Bigger20(i) :\n",
    "    return i > 20\n",
    "iter_l5 = filter(Bigger20, l4)\n",
    "#filter는 이터레이터를 반환하므로 이것을 리스트로 담기위해서는\n",
    "# tuple 이나 list를 사용해야함\n",
    "f1 = list(filter(Bigger20, l4))\n",
    "f2 = tuple(filter(Bigger20, l4))\n",
    "for i in iter_l5 :\n",
    "    print(\"item : {0}\".format(i))\n",
    "print(\"\\nlist형 \\n\", f1)\n",
    "print(\"tuple형\\n\",f2)"
   ]
  },
  {
   "cell_type": "code",
   "execution_count": 22,
   "metadata": {},
   "outputs": [
    {
     "data": {
      "text/plain": [
       "[10, 9, 8, 7, 6, 5, 4, 3, 2, 1]"
      ]
     },
     "execution_count": 22,
     "metadata": {},
     "output_type": "execute_result"
    }
   ],
   "source": [
    "#range\n",
    "# 수열을 순회하는 이터레이터 객체를 반환\n",
    "# 시작값과 증가값은 생략 가능, 이 때는 0과 1이 자동 할당됨\n",
    "# 종료값은 반드시 = 적어도 파라미터 하나는 반드시 입력해야한다.\n",
    "r1 = list(range(-1)) #시작이 0이므로, 종료값 -1, 증가값 1\n",
    "r1\n",
    "r2 = list(range(10, 0, -1))\n",
    "r2"
   ]
  },
  {
   "cell_type": "code",
   "execution_count": 23,
   "metadata": {},
   "outputs": [
    {
     "name": "stdout",
     "output_type": "stream",
     "text": [
      "item : 11\n",
      "item : 12\n",
      "item : 13\n"
     ]
    },
    {
     "data": {
      "text/plain": [
       "[1, 8, 81]"
      ]
     },
     "execution_count": 23,
     "metadata": {},
     "output_type": "execute_result"
    }
   ],
   "source": [
    "# map\n",
    "# map(<function>, 시퀀스 객체, ...)\n",
    "# 시퀀스 객체를 순회하며 function의 연산을 수행\n",
    "# 함수의 인자 수만큼 시퀀스 객체를 전달\n",
    "# 사용처 : 시퀀스 객체를 돌면서 모든 값들을 갱신해야할 때\n",
    "m1 = [1, 2, 3]\n",
    "def add10(i):\n",
    "    return i + 10\n",
    "for i in map(add10, m1):\n",
    "    print(\"item : {0}\".format(i))\n",
    "#\n",
    "m2 = [1, 2, 3]\n",
    "m3 = [2, 3, 4]\n",
    "list(map(pow, m2, m3)) #pow에 뒤의 인자들을 다 돌면서 새로운 리스트를 만들어냄"
   ]
  },
  {
   "cell_type": "code",
   "execution_count": null,
   "metadata": {},
   "outputs": [],
   "source": []
  }
 ],
 "metadata": {
  "kernelspec": {
   "display_name": "Python 3",
   "language": "python",
   "name": "python3"
  },
  "language_info": {
   "codemirror_mode": {
    "name": "ipython",
    "version": 3
   },
   "file_extension": ".py",
   "mimetype": "text/x-python",
   "name": "python",
   "nbconvert_exporter": "python",
   "pygments_lexer": "ipython3",
   "version": "3.7.3"
  }
 },
 "nbformat": 4,
 "nbformat_minor": 2
}
